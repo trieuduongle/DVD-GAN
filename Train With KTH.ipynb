{
  "cells": [
    {
      "cell_type": "markdown",
      "metadata": {
        "id": "view-in-github",
        "colab_type": "text"
      },
      "source": [
        "<a href=\"https://colab.research.google.com/github/trieuduongle/DVD-GAN/blob/kth/Train%20With%20KTH.ipynb\" target=\"_parent\"><img src=\"https://colab.research.google.com/assets/colab-badge.svg\" alt=\"Open In Colab\"/></a>"
      ]
    },
    {
      "cell_type": "code",
      "execution_count": 1,
      "metadata": {
        "colab": {
          "base_uri": "https://localhost:8080/"
        },
        "id": "tLrjGVvQWNxH",
        "outputId": "9c98be1c-9ca3-465b-f70b-f6842ebf444f"
      },
      "outputs": [
        {
          "output_type": "stream",
          "name": "stdout",
          "text": [
            "Mounted at /content/drive\n"
          ]
        }
      ],
      "source": [
        "from google.colab import drive\n",
        "drive.mount('/content/drive', force_remount=True)"
      ]
    },
    {
      "cell_type": "code",
      "execution_count": 11,
      "metadata": {
        "colab": {
          "base_uri": "https://localhost:8080/"
        },
        "id": "TQ8IXIA9WeV0",
        "outputId": "c5eb8f1f-9bdf-46f8-f233-1ff5c396c335"
      },
      "outputs": [
        {
          "output_type": "stream",
          "name": "stdout",
          "text": [
            "Cloning into '/content/drive/My Drive/Duong/DVD-GAN'...\n",
            "remote: Enumerating objects: 687, done.\u001b[K\n",
            "remote: Counting objects: 100% (146/146), done.\u001b[K\n",
            "remote: Compressing objects: 100% (61/61), done.\u001b[K\n",
            "remote: Total 687 (delta 108), reused 102 (delta 85), pack-reused 541\u001b[K\n",
            "Receiving objects: 100% (687/687), 232.75 KiB | 1.30 MiB/s, done.\n",
            "Resolving deltas: 100% (426/426), done.\n"
          ]
        }
      ],
      "source": [
        "!git clone https://github.com/trieuduongle/DVD-GAN.git '/content/drive/My Drive/Duong/DVD-GAN'"
      ]
    },
    {
      "cell_type": "code",
      "execution_count": 2,
      "metadata": {
        "colab": {
          "base_uri": "https://localhost:8080/"
        },
        "id": "snonURDKWpwk",
        "outputId": "1434b025-ed55-4b99-91db-1e37d3729468"
      },
      "outputs": [
        {
          "output_type": "stream",
          "name": "stdout",
          "text": [
            "/content/drive/My Drive/Duong/DVD-GAN\n"
          ]
        }
      ],
      "source": [
        "%cd '/content/drive/My Drive/Duong/DVD-GAN'"
      ]
    },
    {
      "cell_type": "code",
      "source": [
        "  !git config --global user.email \"duongbk1602@gmail.com\"\n",
        "  !git config --global user.name \"Duong Le\""
      ],
      "metadata": {
        "id": "sKPD_fVPGdej"
      },
      "execution_count": 16,
      "outputs": []
    },
    {
      "cell_type": "code",
      "execution_count": 19,
      "metadata": {
        "id": "VyuC_ecGWmcU",
        "outputId": "c5655a55-ba94-4296-9571-a4a1812c2c63",
        "colab": {
          "base_uri": "https://localhost:8080/"
        }
      },
      "outputs": [
        {
          "output_type": "stream",
          "name": "stdout",
          "text": [
            "Branch 'kth' set up to track remote branch 'kth' from 'origin'.\n",
            "Switched to a new branch 'kth'\n",
            "Already up to date.\n"
          ]
        }
      ],
      "source": [
        "!git fetch origin && git checkout kth && git pull"
      ]
    },
    {
      "cell_type": "code",
      "execution_count": null,
      "metadata": {
        "colab": {
          "base_uri": "https://localhost:8080/",
          "height": 35
        },
        "id": "OisZLDW7vZ_Q",
        "outputId": "05ead58f-4927-4347-b5b4-0be20e1e7e48"
      },
      "outputs": [
        {
          "data": {
            "application/vnd.google.colaboratory.intrinsic+json": {
              "type": "string"
            },
            "text/plain": [
              "'A100-SXM4-40GB'"
            ]
          },
          "execution_count": 1,
          "metadata": {},
          "output_type": "execute_result"
        }
      ],
      "source": [
        "import torch\n",
        "torch.cuda.device_count()\n",
        "torch.cuda.is_available()\n",
        "torch.cuda.current_device()\n",
        "torch.cuda.device(0)\n",
        "torch.cuda.get_device_name(0)"
      ]
    },
    {
      "cell_type": "markdown",
      "metadata": {
        "id": "pvsZ3mzo9BxB"
      },
      "source": [
        "#Trainning with Moving MNIST dataset"
      ]
    },
    {
      "cell_type": "code",
      "execution_count": null,
      "metadata": {
        "colab": {
          "base_uri": "https://localhost:8080/"
        },
        "id": "BTqCwjZEvkwi",
        "outputId": "eca6a05c-af4b-4449-e112-5a5ab20b6038"
      },
      "outputs": [
        {
          "name": "stdout",
          "output_type": "stream",
          "text": [
            "remote: Enumerating objects: 5, done.\u001b[K\n",
            "remote: Counting objects:  20% (1/5)\u001b[K\rremote: Counting objects:  40% (2/5)\u001b[K\rremote: Counting objects:  60% (3/5)\u001b[K\rremote: Counting objects:  80% (4/5)\u001b[K\rremote: Counting objects: 100% (5/5)\u001b[K\rremote: Counting objects: 100% (5/5), done.\u001b[K\n",
            "remote: Compressing objects:  33% (1/3)\u001b[K\rremote: Compressing objects:  66% (2/3)\u001b[K\rremote: Compressing objects: 100% (3/3)\u001b[K\rremote: Compressing objects: 100% (3/3), done.\u001b[K\n",
            "remote: Total 3 (delta 1), reused 0 (delta 0), pack-reused 0\u001b[K\n",
            "Unpacking objects:  33% (1/3)   \rUnpacking objects:  66% (2/3)   \rUnpacking objects: 100% (3/3)   \rUnpacking objects: 100% (3/3), done.\n",
            "From https://github.com/trieuduongle/DVD-GAN\n",
            "   cc237a5..1e93689  mse-loss   -> origin/mse-loss\n",
            "Updating cc237a5..1e93689\n",
            "Fast-forward\n",
            " Train Spatial Temporal GAN.ipynb | 1228 \u001b[32m+++++++++++++++++++++++++++++++++++++\u001b[m\u001b[31m-\u001b[m\n",
            " 1 file changed, 1210 insertions(+), 18 deletions(-)\n"
          ]
        }
      ],
      "source": [
        "!git pull"
      ]
    },
    {
      "cell_type": "code",
      "execution_count": 3,
      "metadata": {
        "colab": {
          "base_uri": "https://localhost:8080/"
        },
        "id": "8KqQEKFi0jG9",
        "outputId": "be62ac37-54ed-4e9c-aab0-d82c2c6901e3"
      },
      "outputs": [
        {
          "output_type": "stream",
          "name": "stdout",
          "text": [
            "Looking in indexes: https://pypi.org/simple, https://us-python.pkg.dev/colab-wheels/public/simple/\n",
            "Collecting hickle==5.0.2\n",
            "  Downloading hickle-5.0.2-py3-none-any.whl (107 kB)\n",
            "\u001b[2K     \u001b[90m━━━━━━━━━━━━━━━━━━━━━━━━━━━━━━━━━━━━━━━\u001b[0m \u001b[32m107.9/107.9 KB\u001b[0m \u001b[31m4.0 MB/s\u001b[0m eta \u001b[36m0:00:00\u001b[0m\n",
            "\u001b[?25hCollecting tensorboardX==2.5.1\n",
            "  Downloading tensorboardX-2.5.1-py2.py3-none-any.whl (125 kB)\n",
            "\u001b[2K     \u001b[90m━━━━━━━━━━━━━━━━━━━━━━━━━━━━━━━━━━━━━━\u001b[0m \u001b[32m125.4/125.4 KB\u001b[0m \u001b[31m10.1 MB/s\u001b[0m eta \u001b[36m0:00:00\u001b[0m\n",
            "\u001b[?25hRequirement already satisfied: numpy!=1.20,>=1.8 in /usr/local/lib/python3.8/dist-packages (from hickle==5.0.2->-r requirements.txt (line 1)) (1.21.6)\n",
            "Requirement already satisfied: h5py>=2.10.0 in /usr/local/lib/python3.8/dist-packages (from hickle==5.0.2->-r requirements.txt (line 1)) (3.1.0)\n",
            "Requirement already satisfied: protobuf<=3.20.1,>=3.8.0 in /usr/local/lib/python3.8/dist-packages (from tensorboardX==2.5.1->-r requirements.txt (line 2)) (3.19.6)\n",
            "Installing collected packages: tensorboardX, hickle\n",
            "Successfully installed hickle-5.0.2 tensorboardX-2.5.1\n"
          ]
        }
      ],
      "source": [
        "!pip install -r requirements.txt"
      ]
    },
    {
      "cell_type": "code",
      "execution_count": 4,
      "metadata": {
        "id": "PujfUpHsItgS",
        "outputId": "0dca4d72-a3f1-407e-ace2-cbf6c10f39d8",
        "colab": {
          "base_uri": "https://localhost:8080/"
        }
      },
      "outputs": [
        {
          "output_type": "stream",
          "name": "stdout",
          "text": [
            "model = dvd-gan\n",
            "adv_loss = mse\n",
            "imsize = 128\n",
            "g_num = 5\n",
            "g_chn = 32\n",
            "z_dim = 120\n",
            "ds_chn = 32\n",
            "dt_chn = 32\n",
            "g_conv_dim = 64\n",
            "d_conv_dim = 64\n",
            "lambda_gp = 10\n",
            "lr_schr = onecycle\n",
            "version = \n",
            "total_epoch = 1000\n",
            "d_iters = 1\n",
            "g_iters = 1\n",
            "batch_size = 32\n",
            "num_workers = 8\n",
            "g_lr = 0.01\n",
            "ds_lr = 0.01\n",
            "dt_lr = 0.01\n",
            "lr_decay = 0.9999\n",
            "beta1 = 0.0\n",
            "beta2 = 0.9\n",
            "pretrained_model = None\n",
            "train = True\n",
            "parallel = False\n",
            "gpus = ['0']\n",
            "dataset = ucf101\n",
            "use_tensorboard = True\n",
            "n_class = 101\n",
            "k_sample = 64\n",
            "n_frames = 24\n",
            "test_batch_size = 8\n",
            "image_path = ./data\n",
            "log_path = ./kth_logs\n",
            "model_save_path = ./kth_models\n",
            "sample_path = ./kth_samples\n",
            "interpolate_path = ./interpolate\n",
            "log_epoch = 1\n",
            "sample_epoch = 1\n",
            "model_save_epoch = 2\n",
            "norm_value = 255\n",
            "no_mean_norm = True\n",
            "std_norm = False\n",
            "mean_dataset = activitynet\n",
            "root_path = /tmp4/potter/UCF101\n",
            "video_path = videos_jpeg\n",
            "annotation_path = annotation/ucf101_01.json\n",
            "train_crop = corner\n",
            "sample_size = 64\n",
            "initial_scale = 1.0\n",
            "n_scales = 5\n",
            "scale_step = 0.84089641525\n",
            "in_shape = [10, 1, 64, 64]\n",
            "image_channels = 1\n",
            "hid_S = 64\n",
            "hid_T = 256\n",
            "N_S = 4\n",
            "N_T = 8\n",
            "groups = 4\n",
            "pre_seq_length = 10\n",
            "aft_seq_length = 10\n",
            "lambda_d_s = 0.005\n",
            "lambda_d_t = 0.005\n",
            "val_batch_size = 32\n",
            "data_root = /content/drive/My Drive/Duong/datasets/kth\n",
            "dataname = kth\n",
            "not exist\n",
            "begin load data/content/drive/My Drive/Duong/datasets/kth\n",
            "Traceback (most recent call last):\n",
            "  File \"main.py\", line 64, in <module>\n",
            "    main(config)\n",
            "  File \"main.py\", line 29, in main\n",
            "    train_loader, val_loader, test_loader, data_mean, data_std = load_data(\n",
            "  File \"/content/drive/My Drive/Duong/DVD-GAN/Dataloader/dataloader.py\", line 11, in load_data\n",
            "    return load_kth(batch_size, val_batch_size, data_root, num_workers)\n",
            "  File \"/content/drive/My Drive/Duong/DVD-GAN/Dataloader/dataloader_kth.py\", line 295, in load_data\n",
            "    train_input_handle = input_handle.get_train_input_handle()\n",
            "  File \"/content/drive/My Drive/Duong/DVD-GAN/Dataloader/dataloader_kth.py\", line 264, in get_train_input_handle\n",
            "    train_data, train_indices = self.load_data(self.paths, mode='train')\n",
            "  File \"/content/drive/My Drive/Duong/DVD-GAN/Dataloader/dataloader_kth.py\", line 202, in load_data\n",
            "    p_c_dir_list = os.listdir(c_dir_path)\n",
            "FileNotFoundError: [Errno 2] No such file or directory: '/content/drive/My Drive/Duong/datasets/kth/boxing'\n"
          ]
        }
      ],
      "source": [
        "!python main.py \\\n",
        "  --batch_size 32 \\\n",
        "  --val_batch_size 32 \\\n",
        "  --adv_loss mse \\\n",
        "  --gpus 0 \\\n",
        "  --use_tensorboard True \\\n",
        "  --num_workers 8 \\\n",
        "  --dataname 'kth' \\\n",
        "  --data_root '/content/drive/My Drive/Duong/datasets/kth' \\\n",
        "  --total_epoch 1000 \\\n",
        "  --sample_epoch 1 \\\n",
        "  --model_save_epoch 2 \\\n",
        "  --lr_schr onecycle \\\n",
        "  --g_lr 0.01 \\\n",
        "  --ds_lr 0.01 \\\n",
        "  --dt_lr 0.01 \\\n",
        "  --hid_S 64 \\\n",
        "  --hid_T 256 \\\n",
        "  --N_S 4 \\\n",
        "  --N_T 8 \\\n",
        "  --pre_seq_length 10 \\\n",
        "  --aft_seq_length 10 \\\n",
        "  --log_path './kth_logs' \\\n",
        "  --sample_path './kth_samples' \\\n",
        "  --model_save_path './kth_models'"
      ]
    }
  ],
  "metadata": {
    "accelerator": "GPU",
    "colab": {
      "provenance": [],
      "include_colab_link": true
    },
    "gpuClass": "premium",
    "kernelspec": {
      "display_name": "Python 3",
      "name": "python3"
    },
    "language_info": {
      "name": "python"
    }
  },
  "nbformat": 4,
  "nbformat_minor": 0
}