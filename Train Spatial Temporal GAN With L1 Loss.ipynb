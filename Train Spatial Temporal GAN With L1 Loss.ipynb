{
  "cells": [
    {
      "cell_type": "markdown",
      "metadata": {
        "id": "view-in-github",
        "colab_type": "text"
      },
      "source": [
        "<a href=\"https://colab.research.google.com/github/trieuduongle/DVD-GAN/blob/l1-loss/Train%20Spatial%20Temporal%20GAN%20With%20L1%20Loss.ipynb\" target=\"_parent\"><img src=\"https://colab.research.google.com/assets/colab-badge.svg\" alt=\"Open In Colab\"/></a>"
      ]
    },
    {
      "cell_type": "code",
      "execution_count": 2,
      "metadata": {
        "colab": {
          "base_uri": "https://localhost:8080/"
        },
        "id": "tLrjGVvQWNxH",
        "outputId": "ce2de037-254c-4b69-c8e3-07a6d8a830d9"
      },
      "outputs": [
        {
          "output_type": "stream",
          "name": "stdout",
          "text": [
            "Mounted at /content/drive\n"
          ]
        }
      ],
      "source": [
        "from google.colab import drive\n",
        "drive.mount('/content/drive', force_remount=True)"
      ]
    },
    {
      "cell_type": "code",
      "execution_count": null,
      "metadata": {
        "colab": {
          "base_uri": "https://localhost:8080/"
        },
        "id": "TQ8IXIA9WeV0",
        "outputId": "6212d3b3-3c8f-4eba-fc0a-90dd109a7f00"
      },
      "outputs": [
        {
          "output_type": "stream",
          "name": "stdout",
          "text": [
            "Cloning into '/content/drive/My Drive/Duong/DVD-GAN'...\n",
            "remote: Enumerating objects: 620, done.\u001b[K\n",
            "remote: Counting objects: 100% (79/79), done.\u001b[K\n",
            "remote: Compressing objects: 100% (6/6), done.\u001b[K\n",
            "remote: Total 620 (delta 73), reused 73 (delta 73), pack-reused 541\u001b[K\n",
            "Receiving objects: 100% (620/620), 133.91 KiB | 2.85 MiB/s, done.\n",
            "Resolving deltas: 100% (391/391), done.\n"
          ]
        }
      ],
      "source": [
        "!git clone https://github.com/trieuduongle/DVD-GAN.git '/content/drive/My Drive/Duong/DVD-GAN'"
      ]
    },
    {
      "cell_type": "code",
      "execution_count": 3,
      "metadata": {
        "colab": {
          "base_uri": "https://localhost:8080/"
        },
        "id": "snonURDKWpwk",
        "outputId": "6ecc2370-893c-43af-a6f0-5b285cdbee4f"
      },
      "outputs": [
        {
          "output_type": "stream",
          "name": "stdout",
          "text": [
            "/content/drive/My Drive/Duong/DVD-GAN\n"
          ]
        }
      ],
      "source": [
        "%cd '/content/drive/My Drive/Duong/DVD-GAN'"
      ]
    },
    {
      "cell_type": "code",
      "execution_count": null,
      "metadata": {
        "id": "VyuC_ecGWmcU"
      },
      "outputs": [],
      "source": [
        "!git fetch origin && git checkout simvp && git pull"
      ]
    },
    {
      "cell_type": "code",
      "source": [
        "import torch\n",
        "torch.cuda.device_count()\n",
        "torch.cuda.is_available()\n",
        "torch.cuda.current_device()\n",
        "torch.cuda.device(0)\n",
        "torch.cuda.get_device_name(0)"
      ],
      "metadata": {
        "colab": {
          "base_uri": "https://localhost:8080/",
          "height": 35
        },
        "id": "OisZLDW7vZ_Q",
        "outputId": "05ead58f-4927-4347-b5b4-0be20e1e7e48"
      },
      "execution_count": null,
      "outputs": [
        {
          "output_type": "execute_result",
          "data": {
            "text/plain": [
              "'A100-SXM4-40GB'"
            ],
            "application/vnd.google.colaboratory.intrinsic+json": {
              "type": "string"
            }
          },
          "metadata": {},
          "execution_count": 1
        }
      ]
    },
    {
      "cell_type": "markdown",
      "metadata": {
        "id": "pvsZ3mzo9BxB"
      },
      "source": [
        "#Trainning with Moving MNIST dataset"
      ]
    },
    {
      "cell_type": "code",
      "source": [
        "!git fetch origin  && git checkout l1-loss && git pull"
      ],
      "metadata": {
        "colab": {
          "base_uri": "https://localhost:8080/"
        },
        "id": "BTqCwjZEvkwi",
        "outputId": "cb60a86f-2d91-4c1c-dec5-501c23d4a3a1"
      },
      "execution_count": 4,
      "outputs": [
        {
          "output_type": "stream",
          "name": "stdout",
          "text": [
            "remote: Enumerating objects: 40, done.\u001b[K\n",
            "remote: Counting objects:   2% (1/36)\u001b[K\rremote: Counting objects:   5% (2/36)\u001b[K\rremote: Counting objects:   8% (3/36)\u001b[K\rremote: Counting objects:  11% (4/36)\u001b[K\rremote: Counting objects:  13% (5/36)\u001b[K\rremote: Counting objects:  16% (6/36)\u001b[K\rremote: Counting objects:  19% (7/36)\u001b[K\rremote: Counting objects:  22% (8/36)\u001b[K\rremote: Counting objects:  25% (9/36)\u001b[K\rremote: Counting objects:  27% (10/36)\u001b[K\rremote: Counting objects:  30% (11/36)\u001b[K\rremote: Counting objects:  33% (12/36)\u001b[K\rremote: Counting objects:  36% (13/36)\u001b[K\rremote: Counting objects:  38% (14/36)\u001b[K\rremote: Counting objects:  41% (15/36)\u001b[K\rremote: Counting objects:  44% (16/36)\u001b[K\rremote: Counting objects:  47% (17/36)\u001b[K\rremote: Counting objects:  50% (18/36)\u001b[K\rremote: Counting objects:  52% (19/36)\u001b[K\rremote: Counting objects:  55% (20/36)\u001b[K\rremote: Counting objects:  58% (21/36)\u001b[K\rremote: Counting objects:  61% (22/36)\u001b[K\rremote: Counting objects:  63% (23/36)\u001b[K\rremote: Counting objects:  66% (24/36)\u001b[K\rremote: Counting objects:  69% (25/36)\u001b[K\rremote: Counting objects:  72% (26/36)\u001b[K\rremote: Counting objects:  75% (27/36)\u001b[K\rremote: Counting objects:  77% (28/36)\u001b[K\rremote: Counting objects:  80% (29/36)\u001b[K\rremote: Counting objects:  83% (30/36)\u001b[K\rremote: Counting objects:  86% (31/36)\u001b[K\rremote: Counting objects:  88% (32/36)\u001b[K\rremote: Counting objects:  91% (33/36)\u001b[K\rremote: Counting objects:  94% (34/36)\u001b[K\rremote: Counting objects:  97% (35/36)\u001b[K\rremote: Counting objects: 100% (36/36)\u001b[K\rremote: Counting objects: 100% (36/36), done.\u001b[K\n",
            "remote: Compressing objects: 100% (27/27), done.\u001b[K\n",
            "remote: Total 40 (delta 19), reused 20 (delta 9), pack-reused 4\u001b[K\n",
            "Unpacking objects: 100% (40/40), done.\n",
            "From https://github.com/trieuduongle/DVD-GAN\n",
            "   3e61994..96e182a  mse-loss   -> origin/mse-loss\n",
            " * [new branch]      l1-loss    -> origin/l1-loss\n",
            "M\tscripts/data_prepare.sh\n",
            "M\tscripts/download_annotations.sh\n",
            "M\tscripts/download_dataset.sh\n",
            "M\tscripts/train_model.sh\n",
            "M\tutils/eval_hmdb51.py\n",
            "M\tutils/eval_kinetics.py\n",
            "M\tutils/eval_ucf101.py\n",
            "M\tutils/n_frames_ucf101_hmdb51.py\n",
            "M\tutils/video_jpg_ucf101_hmdb51.py\n",
            "Branch 'l1-loss' set up to track remote branch 'l1-loss' from 'origin'.\n",
            "Switched to a new branch 'l1-loss'\n",
            "Already up to date.\n"
          ]
        }
      ]
    },
    {
      "cell_type": "code",
      "execution_count": 4,
      "metadata": {
        "colab": {
          "base_uri": "https://localhost:8080/"
        },
        "id": "8KqQEKFi0jG9",
        "outputId": "2770834f-a4cf-49e1-a795-5b266a7bf3db"
      },
      "outputs": [
        {
          "output_type": "stream",
          "name": "stdout",
          "text": [
            "Looking in indexes: https://pypi.org/simple, https://us-python.pkg.dev/colab-wheels/public/simple/\n",
            "Collecting hickle==5.0.2\n",
            "  Downloading hickle-5.0.2-py3-none-any.whl (107 kB)\n",
            "\u001b[2K     \u001b[90m━━━━━━━━━━━━━━━━━━━━━━━━━━━━━━━━━━━━━━\u001b[0m \u001b[32m107.9/107.9 KB\u001b[0m \u001b[31m10.4 MB/s\u001b[0m eta \u001b[36m0:00:00\u001b[0m\n",
            "\u001b[?25hCollecting tensorboardX==2.5.1\n",
            "  Downloading tensorboardX-2.5.1-py2.py3-none-any.whl (125 kB)\n",
            "\u001b[2K     \u001b[90m━━━━━━━━━━━━━━━━━━━━━━━━━━━━━━━━━━━━━━\u001b[0m \u001b[32m125.4/125.4 KB\u001b[0m \u001b[31m15.9 MB/s\u001b[0m eta \u001b[36m0:00:00\u001b[0m\n",
            "\u001b[?25hRequirement already satisfied: h5py>=2.10.0 in /usr/local/lib/python3.8/dist-packages (from hickle==5.0.2->-r requirements.txt (line 1)) (3.1.0)\n",
            "Requirement already satisfied: numpy!=1.20,>=1.8 in /usr/local/lib/python3.8/dist-packages (from hickle==5.0.2->-r requirements.txt (line 1)) (1.21.6)\n",
            "Requirement already satisfied: protobuf<=3.20.1,>=3.8.0 in /usr/local/lib/python3.8/dist-packages (from tensorboardX==2.5.1->-r requirements.txt (line 2)) (3.19.6)\n",
            "Installing collected packages: tensorboardX, hickle\n",
            "Successfully installed hickle-5.0.2 tensorboardX-2.5.1\n"
          ]
        }
      ],
      "source": [
        "!pip install -r requirements.txt"
      ]
    },
    {
      "cell_type": "code",
      "source": [
        "!python main.py \\\n",
        "  --batch_size 32 \\\n",
        "  --val_batch_size 32 \\\n",
        "  --adv_loss mse \\\n",
        "  --gpus 0 \\\n",
        "  --use_tensorboard True \\\n",
        "  --num_workers 2 \\\n",
        "  --data_root '/content/drive/My Drive/Duong/datasets' \\\n",
        "  --total_epoch 201 \\\n",
        "  --sample_epoch 2 \\\n",
        "  --model_save_epoch 2 \\\n",
        "  --lr_schr onecycle \\\n",
        "  --g_lr 0.01 \\\n",
        "  --ds_lr 0.01 \\\n",
        "  --dt_lr 0.01 \\\n",
        "  --pre_seq_length 10 \\\n",
        "  --aft_seq_length 10 \\\n",
        "  --log_path './l1_logs' \\\n",
        "  --sample_path './l1_samples' \\\n",
        "  --model_save_path './l1_models'"
      ],
      "metadata": {
        "id": "JWd_XpBC3eiX",
        "outputId": "84fbaa35-2c09-4453-cc07-bb447b81ddbe",
        "colab": {
          "base_uri": "https://localhost:8080/"
        }
      },
      "execution_count": null,
      "outputs": [
        {
          "output_type": "stream",
          "name": "stdout",
          "text": [
            "model = dvd-gan\n",
            "adv_loss = mse\n",
            "imsize = 128\n",
            "g_num = 5\n",
            "g_chn = 32\n",
            "z_dim = 120\n",
            "ds_chn = 32\n",
            "dt_chn = 32\n",
            "g_conv_dim = 64\n",
            "d_conv_dim = 64\n",
            "lambda_gp = 10\n",
            "lr_schr = onecycle\n",
            "version = \n",
            "total_epoch = 201\n",
            "d_iters = 1\n",
            "g_iters = 1\n",
            "batch_size = 32\n",
            "num_workers = 2\n",
            "g_lr = 0.01\n",
            "ds_lr = 0.01\n",
            "dt_lr = 0.01\n",
            "lr_decay = 0.9999\n",
            "beta1 = 0.0\n",
            "beta2 = 0.9\n",
            "pretrained_model = None\n",
            "train = True\n",
            "parallel = False\n",
            "gpus = ['0']\n",
            "dataset = ucf101\n",
            "use_tensorboard = True\n",
            "n_class = 101\n",
            "k_sample = 64\n",
            "n_frames = 24\n",
            "test_batch_size = 8\n",
            "image_path = ./data\n",
            "log_path = ./l1_logs\n",
            "model_save_path = ./l1_models\n",
            "sample_path = ./l1_samples\n",
            "interpolate_path = ./interpolate\n",
            "log_epoch = 1\n",
            "sample_epoch = 2\n",
            "model_save_epoch = 2\n",
            "norm_value = 255\n",
            "no_mean_norm = True\n",
            "std_norm = False\n",
            "mean_dataset = activitynet\n",
            "root_path = /tmp4/potter/UCF101\n",
            "video_path = videos_jpeg\n",
            "annotation_path = annotation/ucf101_01.json\n",
            "train_crop = corner\n",
            "sample_size = 64\n",
            "initial_scale = 1.0\n",
            "n_scales = 5\n",
            "scale_step = 0.84089641525\n",
            "in_shape = [10, 1, 64, 64]\n",
            "image_channels = 1\n",
            "hid_S = 64\n",
            "hid_T = 256\n",
            "N_S = 4\n",
            "N_T = 8\n",
            "groups = 4\n",
            "pre_seq_length = 10\n",
            "aft_seq_length = 10\n",
            "lambda_d_s = 0.005\n",
            "lambda_d_t = 0.005\n",
            "val_batch_size = 32\n",
            "data_root = /content/drive/My Drive/Duong/datasets\n",
            "dataname = mmnist\n",
            "============================== \n",
            "Build_model...\n",
            "============================== \n",
            "Start training from epoch 1...\n",
            "ds_loss: 0.000000000, dt_loss: 0.000000000, g_s_loss: 1.000000000, g_t_loss: 1.000000000, g_loss: 0.062270768, non_g_loss: 0.052270766: 100% 313/313 [09:28<00:00,  1.82s/it]\n",
            "vali loss: 0.0489:  10% 32/313 [00:08<01:17,  3.63it/s]\n",
            "vali mse:176.196456909, mae:209.914764404, ssim:0.778113532, psnr:41.333402677\n",
            "/usr/local/lib/python3.8/dist-packages/torch/optim/lr_scheduler.py:1679: UserWarning: To get the last learning rate computed by the scheduler, please use `get_last_lr()`.\n",
            "  warnings.warn(\"To get the last learning rate computed by the scheduler, \"\n",
            "Epoch: [1/201], time: 0:09:42.341251, ds_loss: 0.074390645, dt_loss: 0.052553119, g_s_loss: 0.891636834, g_t_loss: 0.925141498, g_loss: 0.009083891, non_g_loss: 0.066073575, loss: 0.075157466, lr: 4.07e-04, ds_lr: 4.07e-04, dt_lr: 4.07e-04\n",
            "ds_loss: 0.096679688, dt_loss: 1.000000000, g_s_loss: 0.904003918, g_t_loss: 1.000000000, g_loss: 0.061309241, non_g_loss: 0.051789220: 100% 313/313 [09:18<00:00,  1.78s/it]\n",
            "vali loss: 0.0477:  10% 32/313 [00:08<01:18,  3.59it/s]\n",
            "vali mse:165.566772461, mae:204.484375000, ssim:0.775332347, psnr:40.100169524\n",
            "Epoch: [2/201], time: 0:09:32.951858, ds_loss: 0.248454610, dt_loss: 0.628068999, g_s_loss: 0.817943663, g_t_loss: 0.743118404, g_loss: 0.007805310, non_g_loss: 0.054853963, loss: 0.062659273, lr: 4.26e-04, ds_lr: 4.26e-04, dt_lr: 4.26e-04\n",
            "ds_loss: 0.210962668, dt_loss: 1.000000000, g_s_loss: 0.805004895, g_t_loss: 1.000000000, g_loss: 0.061075240, non_g_loss: 0.052050214: 100% 313/313 [09:19<00:00,  1.79s/it]\n",
            "vali loss: 0.0512:  10% 32/313 [00:08<01:18,  3.58it/s]\n",
            "vali mse:154.227661133, mae:218.143203735, ssim:0.761104872, psnr:38.243447005\n",
            "Epoch: [3/201], time: 0:09:33.551328, ds_loss: 0.178277095, dt_loss: 1.000000000, g_s_loss: 0.847803919, g_t_loss: 1.000000000, g_loss: 0.009239019, non_g_loss: 0.050969146, loss: 0.060208166, lr: 4.59e-04, ds_lr: 4.59e-04, dt_lr: 4.59e-04\n",
            "ds_loss: 0.312060535, dt_loss: 1.000000000, g_s_loss: 0.692993164, g_t_loss: 1.000000000, g_loss: 0.058258813, non_g_loss: 0.049793847: 100% 313/313 [09:19<00:00,  1.79s/it]\n",
            "vali loss: 0.0491:  10% 32/313 [00:08<01:18,  3.58it/s]\n",
            "vali mse:153.155883789, mae:208.801239014, ssim:0.764149016, psnr:38.588492663\n",
            "Epoch: [4/201], time: 0:09:33.791749, ds_loss: 0.193251702, dt_loss: 1.000000000, g_s_loss: 0.868435931, g_t_loss: 1.000000000, g_loss: 0.009342179, non_g_loss: 0.050313065, loss: 0.059655244, lr: 5.05e-04, ds_lr: 5.05e-04, dt_lr: 5.05e-04\n",
            "ds_loss: 0.239843756, dt_loss: 1.000000000, g_s_loss: 0.763066471, g_t_loss: 1.000000000, g_loss: 0.057150397, non_g_loss: 0.048335064: 100% 313/313 [09:19<00:00,  1.79s/it]\n",
            "vali loss: 0.0477:  10% 32/313 [00:08<01:18,  3.58it/s]\n",
            "vali mse:148.395141602, mae:202.696548462, ssim:0.784019268, psnr:39.087519651\n",
            "Epoch: [5/201], time: 0:09:33.718691, ds_loss: 0.119995291, dt_loss: 1.000000000, g_s_loss: 0.903893707, g_t_loss: 1.000000000, g_loss: 0.009519468, non_g_loss: 0.049025888, loss: 0.058545356, lr: 5.64e-04, ds_lr: 5.64e-04, dt_lr: 5.64e-04\n",
            "ds_loss: 0.120751955, dt_loss: 1.000000000, g_s_loss: 0.876782238, g_t_loss: 1.000000000, g_loss: 0.059262119, non_g_loss: 0.049878206: 100% 313/313 [09:18<00:00,  1.79s/it]\n",
            "vali loss: 0.0467:  10% 32/313 [00:08<01:18,  3.58it/s]\n",
            "vali mse:151.614364624, mae:198.849609375, ssim:0.789704524, psnr:40.053598182\n",
            "Epoch: [6/201], time: 0:09:33.307922, ds_loss: 0.084624557, dt_loss: 1.000000000, g_s_loss: 0.932832120, g_t_loss: 1.000000000, g_loss: 0.009664160, non_g_loss: 0.048108214, loss: 0.057772374, lr: 6.35e-04, ds_lr: 6.35e-04, dt_lr: 6.35e-04\n",
            "ds_loss: 0.006494141, dt_loss: 1.000000000, g_s_loss: 0.989770532, g_t_loss: 1.000000000, g_loss: 0.060447603, non_g_loss: 0.050498750: 100% 313/313 [09:19<00:00,  1.79s/it]\n",
            "vali loss: 0.0459:  10% 32/313 [00:08<01:18,  3.56it/s]\n",
            "vali mse:143.168426514, mae:194.887435913, ssim:0.789973280, psnr:39.435020084\n",
            "Epoch: [7/201], time: 0:09:34.592186, ds_loss: 0.124678706, dt_loss: 1.000000000, g_s_loss: 0.899662960, g_t_loss: 1.000000000, g_loss: 0.009498315, non_g_loss: 0.048344372, loss: 0.057842687, lr: 7.19e-04, ds_lr: 7.19e-04, dt_lr: 7.19e-04\n",
            "ds_loss: 0.022412110, dt_loss: 1.000000000, g_s_loss: 0.997827172, g_t_loss: 1.000000000, g_loss: 0.053615123, non_g_loss: 0.043625988: 100% 313/313 [09:18<00:00,  1.79s/it]\n",
            "vali loss: 0.0450:  10% 32/313 [00:08<01:18,  3.56it/s]\n",
            "vali mse:138.816101074, mae:190.315002441, ssim:0.789945788, psnr:38.837077597\n",
            "Epoch: [8/201], time: 0:09:33.387289, ds_loss: 0.123443614, dt_loss: 1.000000000, g_s_loss: 0.918237359, g_t_loss: 1.000000000, g_loss: 0.009591187, non_g_loss: 0.047926655, loss: 0.057517842, lr: 8.15e-04, ds_lr: 8.15e-04, dt_lr: 8.15e-04\n",
            "ds_loss: 0.407934576, dt_loss: 1.000000000, g_s_loss: 0.595629871, g_t_loss: 1.000000000, g_loss: 0.052087974, non_g_loss: 0.044109825: 100% 313/313 [09:18<00:00,  1.79s/it]\n",
            "vali loss: 0.0450:  10% 32/313 [00:08<01:18,  3.57it/s]\n",
            "vali mse:138.976348877, mae:191.273895264, ssim:0.794273669, psnr:39.266449282\n",
            "Epoch: [9/201], time: 0:09:33.179446, ds_loss: 0.146948076, dt_loss: 1.000000000, g_s_loss: 0.889508786, g_t_loss: 1.000000000, g_loss: 0.009447544, non_g_loss: 0.046701696, loss: 0.056149240, lr: 9.23e-04, ds_lr: 9.23e-04, dt_lr: 9.23e-04\n",
            "ds_loss: 0.539355457, dt_loss: 1.000000000, g_s_loss: 0.464648455, g_t_loss: 1.000000000, g_loss: 0.053294756, non_g_loss: 0.045971513: 100% 313/313 [09:18<00:00,  1.79s/it]\n",
            "vali loss: 0.0476:  10% 32/313 [00:08<01:18,  3.57it/s]\n",
            "vali mse:143.758758545, mae:201.518157959, ssim:0.786522424, psnr:38.548025661\n",
            "Epoch: [10/201], time: 0:09:33.051108, ds_loss: 0.120233281, dt_loss: 1.000000000, g_s_loss: 0.922015501, g_t_loss: 1.000000000, g_loss: 0.009610077, non_g_loss: 0.046412548, loss: 0.056022625, lr: 1.04e-03, ds_lr: 1.04e-03, dt_lr: 1.04e-03\n",
            "ds_loss: 0.203368112, dt_loss: 1.000000000, g_s_loss: 0.810302734, g_t_loss: 1.000000000, g_loss: 0.054428149, non_g_loss: 0.045376636: 100% 313/313 [09:18<00:00,  1.78s/it]\n",
            "vali loss: 0.0439:  10% 32/313 [00:08<01:18,  3.57it/s]\n",
            "vali mse:135.641036987, mae:185.397216797, ssim:0.796427513, psnr:39.367575527\n",
            "Epoch: [11/201], time: 0:09:33.116233, ds_loss: 0.114422181, dt_loss: 1.000000000, g_s_loss: 0.904753854, g_t_loss: 1.000000000, g_loss: 0.009523769, non_g_loss: 0.046524189, loss: 0.056047958, lr: 1.17e-03, ds_lr: 1.17e-03, dt_lr: 1.17e-03\n",
            "ds_loss: 0.125634775, dt_loss: 1.000000000, g_s_loss: 0.993554711, g_t_loss: 1.000000000, g_loss: 0.053656876, non_g_loss: 0.043689102: 100% 313/313 [09:18<00:00,  1.79s/it]\n",
            "vali loss: 0.0443:  10% 32/313 [00:09<01:19,  3.53it/s]\n",
            "vali mse:135.226974487, mae:187.515808105, ssim:0.797802656, psnr:39.336265919\n",
            "Epoch: [12/201], time: 0:09:33.299183, ds_loss: 0.155721934, dt_loss: 1.000000000, g_s_loss: 0.899348969, g_t_loss: 1.000000000, g_loss: 0.009496745, non_g_loss: 0.046037110, loss: 0.055533855, lr: 1.32e-03, ds_lr: 1.32e-03, dt_lr: 1.32e-03\n",
            "ds_loss: 0.218652189, dt_loss: 1.000000000, g_s_loss: 0.888525426, g_t_loss: 1.000000000, g_loss: 0.056062113, non_g_loss: 0.046619486: 100% 313/313 [09:18<00:00,  1.79s/it]\n",
            "vali loss: 0.0450:  10% 32/313 [00:08<01:18,  3.57it/s]\n",
            "vali mse:142.969772339, mae:191.492431641, ssim:0.791384886, psnr:39.147051322\n",
            "Epoch: [13/201], time: 0:09:33.345299, ds_loss: 0.298592396, dt_loss: 1.000000000, g_s_loss: 0.727281456, g_t_loss: 1.000000000, g_loss: 0.008636407, non_g_loss: 0.046742238, loss: 0.055378645, lr: 1.47e-03, ds_lr: 1.47e-03, dt_lr: 1.47e-03\n",
            "ds_loss: 0.204589844, dt_loss: 1.000000000, g_s_loss: 0.788427770, g_t_loss: 1.000000000, g_loss: 0.055215050, non_g_loss: 0.046272911: 100% 313/313 [09:18<00:00,  1.79s/it]\n",
            "vali loss: 0.0452:  10% 32/313 [00:08<01:18,  3.58it/s]\n",
            "vali mse:133.083129883, mae:190.982925415, ssim:0.780819167, psnr:39.138286437\n",
            "Epoch: [14/201], time: 0:09:33.151739, ds_loss: 0.236697256, dt_loss: 1.000000000, g_s_loss: 0.795767033, g_t_loss: 1.000000000, g_loss: 0.008978835, non_g_loss: 0.045387952, loss: 0.054366787, lr: 1.63e-03, ds_lr: 1.63e-03, dt_lr: 1.63e-03\n",
            "ds_loss: 0.241455078, dt_loss: 1.000000000, g_s_loss: 0.763549805, g_t_loss: 1.000000000, g_loss: 0.056599244, non_g_loss: 0.047781494: 100% 313/313 [09:18<00:00,  1.78s/it]\n",
            "vali loss: 0.0438:  10% 32/313 [00:08<01:18,  3.60it/s]\n",
            "vali mse:129.954895020, mae:186.195419312, ssim:0.800866069, psnr:39.106452542\n",
            "Epoch: [15/201], time: 0:09:32.870331, ds_loss: 0.138299123, dt_loss: 1.000000000, g_s_loss: 0.900298756, g_t_loss: 1.000000000, g_loss: 0.009501494, non_g_loss: 0.044318878, loss: 0.053820371, lr: 1.81e-03, ds_lr: 1.81e-03, dt_lr: 1.81e-03\n",
            "ds_loss: 1.000000000, dt_loss: 1.000000000, g_s_loss: 1.000000000, g_t_loss: 1.000000000, g_loss: 0.050534837, non_g_loss: 0.040534835: 100% 313/313 [09:18<00:00,  1.78s/it]\n",
            "vali loss: 0.0416:  10% 32/313 [00:08<01:18,  3.58it/s]\n",
            "vali mse:121.450576782, mae:175.480560303, ssim:0.806252634, psnr:38.817005442\n",
            "Epoch: [16/201], time: 0:09:32.804838, ds_loss: 0.855566442, dt_loss: 1.000000000, g_s_loss: 0.984152155, g_t_loss: 1.000000000, g_loss: 0.009920761, non_g_loss: 0.043735948, loss: 0.053656709, lr: 1.99e-03, ds_lr: 1.99e-03, dt_lr: 1.99e-03\n",
            "ds_loss: 1.000000000, dt_loss: 1.000000000, g_s_loss: 1.000000000, g_t_loss: 1.000000000, g_loss: 0.053121410, non_g_loss: 0.043121412: 100% 313/313 [09:18<00:00,  1.78s/it]\n",
            "vali loss: 0.0421:  10% 32/313 [00:09<01:19,  3.53it/s]\n",
            "vali mse:125.803726196, mae:178.173492432, ssim:0.805624469, psnr:39.108244151\n",
            "Epoch: [17/201], time: 0:09:35.167954, ds_loss: 1.000000000, dt_loss: 1.000000000, g_s_loss: 1.000000000, g_t_loss: 1.000000000, g_loss: 0.010000000, non_g_loss: 0.043085784, loss: 0.053085784, lr: 2.18e-03, ds_lr: 2.18e-03, dt_lr: 2.18e-03\n",
            "ds_loss: 1.000000000, dt_loss: 1.000000000, g_s_loss: 1.000000000, g_t_loss: 1.000000000, g_loss: 0.059010454, non_g_loss: 0.049010456: 100% 313/313 [09:18<00:00,  1.78s/it]\n",
            "vali loss: 0.0405:  10% 32/313 [00:08<01:18,  3.58it/s]\n",
            "vali mse:124.725784302, mae:173.123031616, ssim:0.808910125, psnr:39.414183936\n",
            "Epoch: [18/201], time: 0:09:33.093607, ds_loss: 1.000000000, dt_loss: 1.000000000, g_s_loss: 1.000000000, g_t_loss: 1.000000000, g_loss: 0.010000000, non_g_loss: 0.042682782, loss: 0.052682782, lr: 2.38e-03, ds_lr: 2.38e-03, dt_lr: 2.38e-03\n",
            "ds_loss: 1.000000000, dt_loss: 1.000000000, g_s_loss: 1.000000000, g_t_loss: 1.000000000, g_loss: 0.048922993, non_g_loss: 0.038922995: 100% 313/313 [09:18<00:00,  1.78s/it]\n",
            "vali loss: 0.0403:  10% 32/313 [00:08<01:18,  3.57it/s]\n",
            "vali mse:120.533470154, mae:170.831405640, ssim:0.811996341, psnr:39.234093312\n",
            "Epoch: [19/201], time: 0:09:33.106431, ds_loss: 1.000000000, dt_loss: 1.000000000, g_s_loss: 1.000000000, g_t_loss: 1.000000000, g_loss: 0.010000000, non_g_loss: 0.042051961, loss: 0.052051961, lr: 2.59e-03, ds_lr: 2.59e-03, dt_lr: 2.59e-03\n",
            "ds_loss: 1.000000000, dt_loss: 1.000000000, g_s_loss: 1.000000000, g_t_loss: 1.000000000, g_loss: 0.049178950, non_g_loss: 0.039178949: 100% 313/313 [09:18<00:00,  1.79s/it]\n",
            "vali loss: 0.0406:  10% 32/313 [00:09<01:19,  3.55it/s]\n",
            "vali mse:117.131202698, mae:169.950866699, ssim:0.813002878, psnr:38.964343340\n",
            "Epoch: [20/201], time: 0:09:34.294419, ds_loss: 1.000000000, dt_loss: 1.000000000, g_s_loss: 1.000000000, g_t_loss: 1.000000000, g_loss: 0.010000000, non_g_loss: 0.041513074, loss: 0.051513074, lr: 2.80e-03, ds_lr: 2.80e-03, dt_lr: 2.80e-03\n",
            "ds_loss: 1.000000000, dt_loss: 1.000000000, g_s_loss: 1.000000000, g_t_loss: 1.000000000, g_loss: 0.051421769, non_g_loss: 0.041421771: 100% 313/313 [09:18<00:00,  1.79s/it]\n",
            "vali loss: 0.0388:  10% 32/313 [00:09<01:20,  3.49it/s]\n",
            "vali mse:116.690773010, mae:165.283813477, ssim:0.815997167, psnr:39.180356406\n",
            "Epoch: [21/201], time: 0:09:33.419248, ds_loss: 1.000000000, dt_loss: 1.000000000, g_s_loss: 1.000000000, g_t_loss: 1.000000000, g_loss: 0.010000000, non_g_loss: 0.040577129, loss: 0.050577129, lr: 3.02e-03, ds_lr: 3.02e-03, dt_lr: 3.02e-03\n",
            "ds_loss: 1.000000000, dt_loss: 1.000000000, g_s_loss: 1.000000000, g_t_loss: 1.000000000, g_loss: 0.048969030, non_g_loss: 0.038969032: 100% 313/313 [09:18<00:00,  1.78s/it]\n",
            "vali loss: 0.0398:  10% 32/313 [00:08<01:18,  3.57it/s]\n",
            "vali mse:117.035934448, mae:168.819580078, ssim:0.817144819, psnr:39.364337692\n",
            "Epoch: [22/201], time: 0:09:32.940579, ds_loss: 1.000000000, dt_loss: 1.000000000, g_s_loss: 1.000000000, g_t_loss: 1.000000000, g_loss: 0.010000000, non_g_loss: 0.040248886, loss: 0.050248886, lr: 3.25e-03, ds_lr: 3.25e-03, dt_lr: 3.25e-03\n",
            "ds_loss: 1.000000000, dt_loss: 1.000000000, g_s_loss: 1.000000000, g_t_loss: 1.000000000, g_loss: 0.048670895, non_g_loss: 0.038670894:  16% 50/313 [01:29<07:48,  1.78s/it]"
          ]
        }
      ]
    },
    {
      "cell_type": "code",
      "source": [
        "!python main.py \\\n",
        "  --batch_size 32 \\\n",
        "  --val_batch_size 32 \\\n",
        "  --adv_loss mse \\\n",
        "  --gpus 0 \\\n",
        "  --use_tensorboard True \\\n",
        "  --num_workers 2 \\\n",
        "  --data_root '/content/drive/My Drive/Duong/datasets' \\\n",
        "  --total_epoch 201 \\\n",
        "  --sample_epoch 2 \\\n",
        "  --model_save_epoch 2 \\\n",
        "  --lr_schr onecycle \\\n",
        "  --g_lr 0.01 \\\n",
        "  --ds_lr 0.01 \\\n",
        "  --dt_lr 0.01 \\\n",
        "  --pre_seq_length 10 \\\n",
        "  --aft_seq_length 10 \\\n",
        "  --log_path './l1_logs' \\\n",
        "  --sample_path './l1_samples' \\\n",
        "  --model_save_path './l1_models' \\\n",
        "  --pretrained_model 22"
      ],
      "metadata": {
        "id": "lWaQ39CDcC14",
        "outputId": "34431da4-56ed-4e83-a1c8-e5b97a5a627b",
        "colab": {
          "base_uri": "https://localhost:8080/"
        }
      },
      "execution_count": null,
      "outputs": [
        {
          "output_type": "stream",
          "name": "stdout",
          "text": [
            "model = dvd-gan\n",
            "adv_loss = mse\n",
            "imsize = 128\n",
            "g_num = 5\n",
            "g_chn = 32\n",
            "z_dim = 120\n",
            "ds_chn = 32\n",
            "dt_chn = 32\n",
            "g_conv_dim = 64\n",
            "d_conv_dim = 64\n",
            "lambda_gp = 10\n",
            "lr_schr = onecycle\n",
            "version = \n",
            "total_epoch = 201\n",
            "d_iters = 1\n",
            "g_iters = 1\n",
            "batch_size = 32\n",
            "num_workers = 2\n",
            "g_lr = 0.01\n",
            "ds_lr = 0.01\n",
            "dt_lr = 0.01\n",
            "lr_decay = 0.9999\n",
            "beta1 = 0.0\n",
            "beta2 = 0.9\n",
            "pretrained_model = 22\n",
            "train = True\n",
            "parallel = False\n",
            "gpus = ['0']\n",
            "dataset = ucf101\n",
            "use_tensorboard = True\n",
            "n_class = 101\n",
            "k_sample = 64\n",
            "n_frames = 24\n",
            "test_batch_size = 8\n",
            "image_path = ./data\n",
            "log_path = ./l1_logs\n",
            "model_save_path = ./l1_models\n",
            "sample_path = ./l1_samples\n",
            "interpolate_path = ./interpolate\n",
            "log_epoch = 1\n",
            "sample_epoch = 2\n",
            "model_save_epoch = 2\n",
            "norm_value = 255\n",
            "no_mean_norm = True\n",
            "std_norm = False\n",
            "mean_dataset = activitynet\n",
            "root_path = /tmp4/potter/UCF101\n",
            "video_path = videos_jpeg\n",
            "annotation_path = annotation/ucf101_01.json\n",
            "train_crop = corner\n",
            "sample_size = 64\n",
            "initial_scale = 1.0\n",
            "n_scales = 5\n",
            "scale_step = 0.84089641525\n",
            "in_shape = [10, 1, 64, 64]\n",
            "image_channels = 1\n",
            "hid_S = 64\n",
            "hid_T = 256\n",
            "N_S = 4\n",
            "N_T = 8\n",
            "groups = 4\n",
            "pre_seq_length = 10\n",
            "aft_seq_length = 10\n",
            "lambda_d_s = 0.005\n",
            "lambda_d_t = 0.005\n",
            "val_batch_size = 32\n",
            "data_root = /content/drive/My Drive/Duong/datasets\n",
            "dataname = mmnist\n",
            "============================== \n",
            "Build_model...\n",
            "load_pretrained_model...\n",
            "loaded trained models (epoch: 22)..!\n",
            "============================== \n",
            "Start training from epoch 23...\n",
            "ds_loss: 1.000000000, dt_loss: 1.000000000, g_s_loss: 1.000000000, g_t_loss: 1.000000000, g_loss: 0.044119947, non_g_loss: 0.034119945: 100% 313/313 [09:43<00:00,  1.86s/it]\n",
            "vali loss: 0.0373:  10% 32/313 [00:09<01:19,  3.54it/s]\n",
            "vali mse:108.763595581, mae:156.704299927, ssim:0.826415371, psnr:39.204596163\n",
            "/usr/local/lib/python3.8/dist-packages/torch/optim/lr_scheduler.py:1679: UserWarning: To get the last learning rate computed by the scheduler, please use `get_last_lr()`.\n",
            "  warnings.warn(\"To get the last learning rate computed by the scheduler, \"\n",
            "Epoch: [23/201], time: 0:09:58.585596, ds_loss: 1.000000000, dt_loss: 1.000000000, g_s_loss: 1.000000000, g_t_loss: 1.000000000, g_loss: 0.010000000, non_g_loss: 0.038248301, loss: 0.048248301, lr: 4.08e-04, ds_lr: 4.08e-04, dt_lr: 4.08e-04\n",
            "ds_loss: 1.000000000, dt_loss: 1.000000000, g_s_loss: 1.000000000, g_t_loss: 1.000000000, g_loss: 0.050936498, non_g_loss: 0.040936496: 100% 313/313 [09:33<00:00,  1.83s/it]\n",
            "vali loss: 0.0368:  10% 32/313 [00:09<01:19,  3.54it/s]\n",
            "vali mse:107.437377930, mae:155.699340820, ssim:0.827894112, psnr:39.152990007\n",
            "Epoch: [24/201], time: 0:09:47.770664, ds_loss: 1.000000000, dt_loss: 1.000000000, g_s_loss: 1.000000000, g_t_loss: 1.000000000, g_loss: 0.010000000, non_g_loss: 0.037823905, loss: 0.047823905, lr: 4.33e-04, ds_lr: 4.33e-04, dt_lr: 4.33e-04\n",
            "ds_loss: 1.000000000, dt_loss: 1.000000000, g_s_loss: 1.000000000, g_t_loss: 1.000000000, g_loss: 0.049664028, non_g_loss: 0.039664026: 100% 313/313 [09:32<00:00,  1.83s/it]\n",
            "vali loss: 0.0366:  10% 32/313 [00:09<01:19,  3.53it/s]\n",
            "vali mse:108.146209717, mae:154.804870605, ssim:0.827897596, psnr:39.304710572\n",
            "Epoch: [25/201], time: 0:09:47.199887, ds_loss: 1.000000000, dt_loss: 1.000000000, g_s_loss: 1.000000000, g_t_loss: 1.000000000, g_loss: 0.010000000, non_g_loss: 0.037652560, loss: 0.047652560, lr: 4.75e-04, ds_lr: 4.75e-04, dt_lr: 4.75e-04\n",
            "ds_loss: 1.000000000, dt_loss: 1.000000000, g_s_loss: 1.000000000, g_t_loss: 1.000000000, g_loss: 0.046332002, non_g_loss: 0.036332000: 100% 313/313 [09:32<00:00,  1.83s/it]\n",
            "vali loss: 0.0363:  10% 32/313 [00:09<01:19,  3.52it/s]\n",
            "vali mse:106.725135803, mae:154.156738281, ssim:0.829153106, psnr:39.244012783\n",
            "Epoch: [26/201], time: 0:09:47.037688, ds_loss: 1.000000000, dt_loss: 1.000000000, g_s_loss: 1.000000000, g_t_loss: 1.000000000, g_loss: 0.010000000, non_g_loss: 0.037407615, loss: 0.047407615, lr: 5.32e-04, ds_lr: 5.32e-04, dt_lr: 5.32e-04\n",
            "ds_loss: 1.000000000, dt_loss: 1.000000000, g_s_loss: 1.000000000, g_t_loss: 1.000000000, g_loss: 0.047771178, non_g_loss: 0.037771177: 100% 313/313 [09:32<00:00,  1.83s/it]\n",
            "vali loss: 0.0364:  10% 32/313 [00:09<01:19,  3.53it/s]\n",
            "vali mse:106.612007141, mae:153.345672607, ssim:0.830046233, psnr:39.315773087\n",
            "Epoch: [27/201], time: 0:09:46.864172, ds_loss: 1.000000000, dt_loss: 1.000000000, g_s_loss: 1.000000000, g_t_loss: 1.000000000, g_loss: 0.010000000, non_g_loss: 0.037135031, loss: 0.047135031, lr: 6.06e-04, ds_lr: 6.06e-04, dt_lr: 6.06e-04\n",
            "ds_loss: 1.000000000, dt_loss: 1.000000000, g_s_loss: 1.000000000, g_t_loss: 1.000000000, g_loss: 0.048228845, non_g_loss: 0.038228843: 100% 313/313 [09:32<00:00,  1.83s/it]\n",
            "vali loss: 0.0360:  10% 32/313 [00:09<01:19,  3.53it/s]\n",
            "vali mse:105.284698486, mae:152.623764038, ssim:0.831554699, psnr:39.320502104\n",
            "Epoch: [28/201], time: 0:09:46.949855, ds_loss: 1.000000000, dt_loss: 1.000000000, g_s_loss: 1.000000000, g_t_loss: 1.000000000, g_loss: 0.010000000, non_g_loss: 0.037011714, loss: 0.047011714, lr: 6.96e-04, ds_lr: 6.96e-04, dt_lr: 6.96e-04\n",
            "ds_loss: 1.000000000, dt_loss: 1.000000000, g_s_loss: 1.000000000, g_t_loss: 1.000000000, g_loss: 0.047786400, non_g_loss: 0.037786402: 100% 313/313 [09:32<00:00,  1.83s/it]\n",
            "vali loss: 0.0362:  10% 32/313 [00:09<01:19,  3.53it/s]\n",
            "vali mse:105.398452759, mae:152.785888672, ssim:0.831437208, psnr:39.295453452\n",
            "Epoch: [29/201], time: 0:09:47.122139, ds_loss: 1.000000000, dt_loss: 1.000000000, g_s_loss: 1.000000000, g_t_loss: 1.000000000, g_loss: 0.010000000, non_g_loss: 0.036863772, loss: 0.046863773, lr: 8.01e-04, ds_lr: 8.01e-04, dt_lr: 8.01e-04\n",
            "ds_loss: 1.000000000, dt_loss: 1.000000000, g_s_loss: 1.000000000, g_t_loss: 1.000000000, g_loss: 0.046338871, non_g_loss: 0.036338873: 100% 313/313 [09:32<00:00,  1.83s/it]\n",
            "vali loss: 0.0357:  10% 32/313 [00:09<01:20,  3.50it/s]\n",
            "vali mse:105.144546509, mae:151.628173828, ssim:0.831573811, psnr:39.367885250\n",
            "Epoch: [30/201], time: 0:09:47.186240, ds_loss: 1.000000000, dt_loss: 1.000000000, g_s_loss: 1.000000000, g_t_loss: 1.000000000, g_loss: 0.010000000, non_g_loss: 0.036839155, loss: 0.046839155, lr: 9.22e-04, ds_lr: 9.22e-04, dt_lr: 9.22e-04\n",
            "ds_loss: 1.000000000, dt_loss: 1.000000000, g_s_loss: 1.000000000, g_t_loss: 1.000000000, g_loss: 0.044911087, non_g_loss: 0.034911085: 100% 313/313 [09:32<00:00,  1.83s/it]\n",
            "vali loss: 0.0355:  10% 32/313 [00:09<01:20,  3.50it/s]\n",
            "vali mse:103.881576538, mae:151.338684082, ssim:0.833160534, psnr:39.248841463\n",
            "Epoch: [31/201], time: 0:09:47.414143, ds_loss: 1.000000000, dt_loss: 1.000000000, g_s_loss: 1.000000000, g_t_loss: 1.000000000, g_loss: 0.010000000, non_g_loss: 0.036682501, loss: 0.046682501, lr: 1.06e-03, ds_lr: 1.06e-03, dt_lr: 1.06e-03\n",
            "ds_loss: 1.000000000, dt_loss: 1.000000000, g_s_loss: 1.000000000, g_t_loss: 1.000000000, g_loss: 0.048716523, non_g_loss: 0.038716525: 100% 313/313 [09:32<00:00,  1.83s/it]\n",
            "vali loss: 0.0360:  10% 32/313 [00:09<01:19,  3.53it/s]\n",
            "vali mse:103.718643188, mae:152.585235596, ssim:0.832531874, psnr:39.066442109\n",
            "Epoch: [32/201], time: 0:09:47.324854, ds_loss: 1.000000000, dt_loss: 1.000000000, g_s_loss: 1.000000000, g_t_loss: 1.000000000, g_loss: 0.010000000, non_g_loss: 0.036744529, loss: 0.046744529, lr: 1.21e-03, ds_lr: 1.21e-03, dt_lr: 1.21e-03\n",
            "ds_loss: 1.000000000, dt_loss: 1.000000000, g_s_loss: 1.000000000, g_t_loss: 1.000000000, g_loss: 0.048782438, non_g_loss: 0.038782436: 100% 313/313 [09:33<00:00,  1.83s/it]\n",
            "vali loss: 0.0355:  10% 32/313 [00:09<01:20,  3.51it/s]\n",
            "vali mse:101.480400085, mae:150.521331787, ssim:0.833452788, psnr:39.105340768\n",
            "Epoch: [33/201], time: 0:09:48.263762, ds_loss: 1.000000000, dt_loss: 1.000000000, g_s_loss: 1.000000000, g_t_loss: 1.000000000, g_loss: 0.010000000, non_g_loss: 0.036597272, loss: 0.046597272, lr: 1.37e-03, ds_lr: 1.37e-03, dt_lr: 1.37e-03\n",
            "ds_loss: 1.000000000, dt_loss: 1.000000000, g_s_loss: 1.000000000, g_t_loss: 1.000000000, g_loss: 0.047826581, non_g_loss: 0.037826579: 100% 313/313 [09:32<00:00,  1.83s/it]\n",
            "vali loss: 0.0356:  10% 32/313 [00:09<01:19,  3.53it/s]\n",
            "vali mse:104.486297607, mae:151.003967285, ssim:0.832187243, psnr:39.400342670\n",
            "Epoch: [34/201], time: 0:09:47.281333, ds_loss: 1.000000000, dt_loss: 1.000000000, g_s_loss: 1.000000000, g_t_loss: 1.000000000, g_loss: 0.010000000, non_g_loss: 0.036469437, loss: 0.046469437, lr: 1.55e-03, ds_lr: 1.55e-03, dt_lr: 1.55e-03\n",
            "ds_loss: 1.000000000, dt_loss: 1.000000000, g_s_loss: 1.000000000, g_t_loss: 1.000000000, g_loss: 0.050894305, non_g_loss: 0.040894307: 100% 313/313 [09:32<00:00,  1.83s/it]\n",
            "vali loss: 0.0359:  10% 32/313 [00:09<01:19,  3.52it/s]\n",
            "vali mse:100.817985535, mae:150.382415771, ssim:0.834770229, psnr:39.117396357\n",
            "Epoch: [35/201], time: 0:09:47.458765, ds_loss: 1.000000000, dt_loss: 1.000000000, g_s_loss: 0.999999961, g_t_loss: 1.000000000, g_loss: 0.010000000, non_g_loss: 0.036463129, loss: 0.046463129, lr: 1.74e-03, ds_lr: 1.74e-03, dt_lr: 1.74e-03\n",
            "ds_loss: 1.000000000, dt_loss: 1.000000000, g_s_loss: 1.000000000, g_t_loss: 1.000000000, g_loss: 0.046121664, non_g_loss: 0.036121663: 100% 313/313 [09:32<00:00,  1.83s/it]\n",
            "vali loss: 0.0357:  10% 32/313 [00:09<01:19,  3.53it/s]\n",
            "vali mse:100.253067017, mae:149.866638184, ssim:0.836004341, psnr:39.041527635\n",
            "Epoch: [36/201], time: 0:09:46.956183, ds_loss: 1.000000000, dt_loss: 1.000000000, g_s_loss: 1.000000000, g_t_loss: 1.000000000, g_loss: 0.010000000, non_g_loss: 0.036327821, loss: 0.046327821, lr: 1.94e-03, ds_lr: 1.94e-03, dt_lr: 1.94e-03\n",
            "ds_loss: 1.000000000, dt_loss: 1.000000000, g_s_loss: 1.000000000, g_t_loss: 1.000000000, g_loss: 0.042033143, non_g_loss: 0.032033145: 100% 313/313 [09:32<00:00,  1.83s/it]\n",
            "vali loss: 0.0360:  10% 32/313 [00:09<01:19,  3.52it/s]\n",
            "vali mse:104.038299561, mae:151.765014648, ssim:0.834719088, psnr:39.477044288\n",
            "Epoch: [37/201], time: 0:09:47.326377, ds_loss: 1.000000000, dt_loss: 1.000000000, g_s_loss: 1.000000000, g_t_loss: 1.000000000, g_loss: 0.010000000, non_g_loss: 0.036281939, loss: 0.046281939, lr: 2.15e-03, ds_lr: 2.15e-03, dt_lr: 2.15e-03\n",
            "ds_loss: 1.000000000, dt_loss: 1.000000000, g_s_loss: 1.000000000, g_t_loss: 1.000000000, g_loss: 0.045349643, non_g_loss: 0.035349645:  48% 149/313 [04:33<04:59,  1.82s/it]"
          ]
        }
      ]
    },
    {
      "cell_type": "code",
      "source": [
        "!python interpolate.py \\\n",
        "  --batch_size 32 \\\n",
        "  --val_batch_size 32 \\\n",
        "  --adv_loss mse \\\n",
        "  --gpus 0 \\\n",
        "  --use_tensorboard True \\\n",
        "  --num_workers 2 \\\n",
        "  --data_root '/content/drive/My Drive/Duong/datasets' \\\n",
        "  --interpolate_path 'interpolate' \\\n",
        "  --pre_seq_length 10 \\\n",
        "  --aft_seq_length 10 \\\n",
        "  --pretrained_model 132"
      ],
      "metadata": {
        "id": "fo_Si-0mzY_f",
        "outputId": "a1909f26-ec03-48fd-cd65-cd224ac33cae",
        "colab": {
          "base_uri": "https://localhost:8080/"
        }
      },
      "execution_count": null,
      "outputs": [
        {
          "output_type": "stream",
          "name": "stdout",
          "text": [
            "model = dvd-gan\n",
            "adv_loss = mse\n",
            "imsize = 128\n",
            "g_num = 5\n",
            "g_chn = 32\n",
            "z_dim = 120\n",
            "ds_chn = 32\n",
            "dt_chn = 32\n",
            "g_conv_dim = 64\n",
            "d_conv_dim = 64\n",
            "lambda_gp = 10\n",
            "lr_schr = const\n",
            "version = \n",
            "total_epoch = 100000\n",
            "d_iters = 1\n",
            "g_iters = 1\n",
            "batch_size = 32\n",
            "num_workers = 2\n",
            "g_lr = 5e-05\n",
            "ds_lr = 5e-05\n",
            "dt_lr = 5e-05\n",
            "lr_decay = 0.9999\n",
            "beta1 = 0.0\n",
            "beta2 = 0.9\n",
            "pretrained_model = 132\n",
            "train = True\n",
            "parallel = False\n",
            "gpus = ['0']\n",
            "dataset = ucf101\n",
            "use_tensorboard = True\n",
            "n_class = 101\n",
            "k_sample = 64\n",
            "n_frames = 24\n",
            "test_batch_size = 8\n",
            "image_path = ./data\n",
            "log_path = ./logs\n",
            "model_save_path = ./models\n",
            "sample_path = ./samples\n",
            "interpolate_path = interpolate\n",
            "log_epoch = 1\n",
            "sample_epoch = 20\n",
            "model_save_epoch = 200\n",
            "norm_value = 255\n",
            "no_mean_norm = True\n",
            "std_norm = False\n",
            "mean_dataset = activitynet\n",
            "root_path = /tmp4/potter/UCF101\n",
            "video_path = videos_jpeg\n",
            "annotation_path = annotation/ucf101_01.json\n",
            "train_crop = corner\n",
            "sample_size = 64\n",
            "initial_scale = 1.0\n",
            "n_scales = 5\n",
            "scale_step = 0.84089641525\n",
            "in_shape = [10, 1, 64, 64]\n",
            "image_channels = 1\n",
            "hid_S = 64\n",
            "hid_T = 256\n",
            "N_S = 4\n",
            "N_T = 8\n",
            "groups = 4\n",
            "pre_seq_length = 10\n",
            "aft_seq_length = 20\n",
            "lambda_d_s = 0.005\n",
            "lambda_d_t = 0.005\n",
            "val_batch_size = 32\n",
            "data_root = /content/drive/My Drive/Duong/datasets\n",
            "dataname = mmnist\n",
            "============================== \n",
            "Build_model...\n",
            "load_pretrained_model...\n",
            "loaded trained models (epoch: 132)..!\n"
          ]
        }
      ]
    }
  ],
  "metadata": {
    "accelerator": "GPU",
    "colab": {
      "provenance": [],
      "include_colab_link": true
    },
    "gpuClass": "premium",
    "kernelspec": {
      "display_name": "Python 3",
      "name": "python3"
    },
    "language_info": {
      "name": "python"
    }
  },
  "nbformat": 4,
  "nbformat_minor": 0
}