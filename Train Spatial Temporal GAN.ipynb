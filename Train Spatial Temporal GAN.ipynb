{
  "cells": [
    {
      "cell_type": "markdown",
      "metadata": {
        "id": "view-in-github",
        "colab_type": "text"
      },
      "source": [
        "<a href=\"https://colab.research.google.com/github/trieuduongle/DVD-GAN/blob/mse-loss/Train%20Spatial%20Temporal%20GAN.ipynb\" target=\"_parent\"><img src=\"https://colab.research.google.com/assets/colab-badge.svg\" alt=\"Open In Colab\"/></a>"
      ]
    },
    {
      "cell_type": "code",
      "execution_count": 1,
      "metadata": {
        "colab": {
          "base_uri": "https://localhost:8080/"
        },
        "id": "tLrjGVvQWNxH",
        "outputId": "0d5909fc-3173-4fec-891a-966d735b2d2f"
      },
      "outputs": [
        {
          "output_type": "stream",
          "name": "stdout",
          "text": [
            "Mounted at /content/drive\n"
          ]
        }
      ],
      "source": [
        "from google.colab import drive\n",
        "drive.mount('/content/drive', force_remount=True)"
      ]
    },
    {
      "cell_type": "code",
      "execution_count": null,
      "metadata": {
        "colab": {
          "base_uri": "https://localhost:8080/"
        },
        "id": "TQ8IXIA9WeV0",
        "outputId": "c831b15f-e65d-48b6-9702-f27d98c49b2d"
      },
      "outputs": [
        {
          "name": "stdout",
          "output_type": "stream",
          "text": [
            "fatal: destination path '/content/drive/My Drive/Duong/SimVP/code' already exists and is not an empty directory.\n"
          ]
        }
      ],
      "source": [
        "!git clone https://github.com/trieuduongle/DVD-GAN.git '/content/drive/My Drive/Duong/DVD-GAN'"
      ]
    },
    {
      "cell_type": "code",
      "execution_count": 2,
      "metadata": {
        "colab": {
          "base_uri": "https://localhost:8080/"
        },
        "id": "snonURDKWpwk",
        "outputId": "3ee367ec-ecf4-4ee2-a6d5-cfb85d256f5b"
      },
      "outputs": [
        {
          "output_type": "stream",
          "name": "stdout",
          "text": [
            "/content/drive/My Drive/Duong/DVD-GAN\n"
          ]
        }
      ],
      "source": [
        "%cd '/content/drive/My Drive/Duong/DVD-GAN'"
      ]
    },
    {
      "cell_type": "code",
      "execution_count": null,
      "metadata": {
        "id": "VyuC_ecGWmcU"
      },
      "outputs": [],
      "source": [
        "!git fetch origin && git checkout simvp && git pull"
      ]
    },
    {
      "cell_type": "markdown",
      "metadata": {
        "id": "pvsZ3mzo9BxB"
      },
      "source": [
        "#Trainning with Moving MNIST dataset"
      ]
    },
    {
      "cell_type": "code",
      "execution_count": 12,
      "metadata": {
        "colab": {
          "base_uri": "https://localhost:8080/"
        },
        "id": "SmpXMxrMC50q",
        "outputId": "b315aecb-43a6-45d7-8a82-6d5024c823f3"
      },
      "outputs": [
        {
          "output_type": "stream",
          "name": "stdout",
          "text": [
            "remote: Enumerating objects: 7, done.\u001b[K\n",
            "remote: Counting objects:  14% (1/7)\u001b[K\rremote: Counting objects:  28% (2/7)\u001b[K\rremote: Counting objects:  42% (3/7)\u001b[K\rremote: Counting objects:  57% (4/7)\u001b[K\rremote: Counting objects:  71% (5/7)\u001b[K\rremote: Counting objects:  85% (6/7)\u001b[K\rremote: Counting objects: 100% (7/7)\u001b[K\rremote: Counting objects: 100% (7/7), done.\u001b[K\n",
            "remote: Compressing objects: 100% (1/1)\u001b[K\rremote: Compressing objects: 100% (1/1), done.\u001b[K\n",
            "remote: Total 4 (delta 3), reused 4 (delta 3), pack-reused 0\u001b[K\n",
            "Unpacking objects: 100% (4/4), done.\n",
            "From https://github.com/trieuduongle/DVD-GAN\n",
            "   ec4bcfe..b614cad  mse-loss   -> origin/mse-loss\n",
            "Updating ec4bcfe..b614cad\n",
            "Fast-forward\n",
            " trainer.py | 12 \u001b[32m++++++++\u001b[m\u001b[31m----\u001b[m\n",
            " utils.py   |  4 \u001b[32m++++\u001b[m\n",
            " 2 files changed, 12 insertions(+), 4 deletions(-)\n"
          ]
        }
      ],
      "source": [
        "!git pull"
      ]
    },
    {
      "cell_type": "code",
      "execution_count": 5,
      "metadata": {
        "colab": {
          "base_uri": "https://localhost:8080/"
        },
        "id": "8KqQEKFi0jG9",
        "outputId": "8933aa0b-9c80-4fdb-f804-9634bb6f6944"
      },
      "outputs": [
        {
          "output_type": "stream",
          "name": "stdout",
          "text": [
            "Looking in indexes: https://pypi.org/simple, https://us-python.pkg.dev/colab-wheels/public/simple/\n",
            "Collecting hickle==5.0.2\n",
            "  Downloading hickle-5.0.2-py3-none-any.whl (107 kB)\n",
            "\u001b[K     |████████████████████████████████| 107 kB 34.4 MB/s \n",
            "\u001b[?25hCollecting tensorboardX==2.5.1\n",
            "  Downloading tensorboardX-2.5.1-py2.py3-none-any.whl (125 kB)\n",
            "\u001b[K     |████████████████████████████████| 125 kB 68.3 MB/s \n",
            "\u001b[?25hRequirement already satisfied: h5py>=2.10.0 in /usr/local/lib/python3.8/dist-packages (from hickle==5.0.2->-r requirements.txt (line 1)) (3.1.0)\n",
            "Requirement already satisfied: numpy!=1.20,>=1.8 in /usr/local/lib/python3.8/dist-packages (from hickle==5.0.2->-r requirements.txt (line 1)) (1.21.6)\n",
            "Requirement already satisfied: protobuf<=3.20.1,>=3.8.0 in /usr/local/lib/python3.8/dist-packages (from tensorboardX==2.5.1->-r requirements.txt (line 2)) (3.19.6)\n",
            "Installing collected packages: tensorboardX, hickle\n",
            "Successfully installed hickle-5.0.2 tensorboardX-2.5.1\n"
          ]
        }
      ],
      "source": [
        "!pip install -r requirements.txt"
      ]
    },
    {
      "cell_type": "code",
      "source": [
        "!python main.py \\\n",
        "  --batch_size 32 \\\n",
        "  --val_batch_size 32 \\\n",
        "  --adv_loss mse \\\n",
        "  --gpus 0 \\\n",
        "  --use_tensorboard True \\\n",
        "  --num_workers 2 \\\n",
        "  --data_root '/content/drive/My Drive/Duong/datasets' \\\n",
        "  --total_epoch 2 \\\n",
        "  --sample_epoch 1 \\\n",
        "  --model_save_epoch 1 \\\n",
        "  --lr_schr exp \\\n",
        "  --g_lr 0.01 \\\n",
        "  --ds_lr 0.0005 \\\n",
        "  --dt_lr 0.0005 \\\n",
        "  --pre_seq_length 10 \\\n",
        "  --aft_seq_length 10"
      ],
      "metadata": {
        "id": "JWd_XpBC3eiX",
        "outputId": "8baeffe3-3a29-4411-9dc3-542af059d472",
        "colab": {
          "base_uri": "https://localhost:8080/"
        }
      },
      "execution_count": 16,
      "outputs": [
        {
          "output_type": "stream",
          "name": "stdout",
          "text": [
            "model = dvd-gan\n",
            "adv_loss = mse\n",
            "imsize = 128\n",
            "g_num = 5\n",
            "g_chn = 32\n",
            "z_dim = 120\n",
            "ds_chn = 32\n",
            "dt_chn = 32\n",
            "g_conv_dim = 64\n",
            "d_conv_dim = 64\n",
            "lambda_gp = 10\n",
            "lr_schr = exp\n",
            "version = \n",
            "total_epoch = 2\n",
            "d_iters = 1\n",
            "g_iters = 1\n",
            "batch_size = 32\n",
            "num_workers = 2\n",
            "g_lr = 0.01\n",
            "ds_lr = 0.0005\n",
            "dt_lr = 0.0005\n",
            "lr_decay = 0.9999\n",
            "beta1 = 0.0\n",
            "beta2 = 0.9\n",
            "pretrained_model = None\n",
            "train = True\n",
            "parallel = False\n",
            "gpus = ['0']\n",
            "dataset = ucf101\n",
            "use_tensorboard = True\n",
            "n_class = 101\n",
            "k_sample = 64\n",
            "n_frames = 24\n",
            "test_batch_size = 8\n",
            "image_path = ./data\n",
            "log_path = ./logs\n",
            "model_save_path = ./models\n",
            "sample_path = ./samples\n",
            "log_epoch = 1\n",
            "sample_epoch = 1\n",
            "model_save_epoch = 1\n",
            "norm_value = 255\n",
            "no_mean_norm = True\n",
            "std_norm = False\n",
            "mean_dataset = activitynet\n",
            "root_path = /tmp4/potter/UCF101\n",
            "video_path = videos_jpeg\n",
            "annotation_path = annotation/ucf101_01.json\n",
            "train_crop = corner\n",
            "sample_size = 64\n",
            "initial_scale = 1.0\n",
            "n_scales = 5\n",
            "scale_step = 0.84089641525\n",
            "in_shape = [10, 1, 64, 64]\n",
            "image_channels = 1\n",
            "hid_S = 64\n",
            "hid_T = 256\n",
            "N_S = 4\n",
            "N_T = 8\n",
            "groups = 4\n",
            "pre_seq_length = 10\n",
            "aft_seq_length = 10\n",
            "lambda_d_s = 0.005\n",
            "lambda_d_t = 0.005\n",
            "val_batch_size = 32\n",
            "data_root = /content/drive/My Drive/Duong/datasets\n",
            "dataname = mmnist\n",
            "============================== \n",
            "Build_model...\n",
            "============================== \n",
            "Start training from epoch 1...\n",
            "ds_loss: 0.501364410, dt_loss: 0.499980628, g_s_loss: 0.256984949, g_t_loss: 0.290340334, g_loss: 4.649783134, non_g_loss: 4.647046566:   0% 1/313 [00:09<51:40,  9.94s/it]\n",
            "vali loss: 0.1026:  10% 32/313 [00:08<01:16,  3.68it/s]\n",
            "vali mse:429.9341, mae:1022.9381, ssim:0.6546, psnr:37.6363\n",
            "/usr/local/lib/python3.8/dist-packages/torch/optim/lr_scheduler.py:587: UserWarning: To get the last learning rate computed by the scheduler, please use `get_last_lr()`.\n",
            "  warnings.warn(\"To get the last learning rate computed by the scheduler, \"\n",
            "Epoch: [1/2], time: 0:00:23.547078, ds_loss: 0.500685424, dt_loss: 0.499995232, g_s_loss: 0.253615960, g_t_loss: 0.270327419, g_loss: 0.002619717, non_g_loss: 2.377114404, loss: 2.379734091, lr: 1.00e-02, ds_lr: 5.00e-04, dt_lr: 5.00e-04\n"
          ]
        }
      ]
    }
  ],
  "metadata": {
    "accelerator": "GPU",
    "colab": {
      "provenance": [],
      "include_colab_link": true
    },
    "gpuClass": "premium",
    "kernelspec": {
      "display_name": "Python 3",
      "name": "python3"
    },
    "language_info": {
      "name": "python"
    }
  },
  "nbformat": 4,
  "nbformat_minor": 0
}